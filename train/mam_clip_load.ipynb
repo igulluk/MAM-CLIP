{
 "cells": [
  {
   "cell_type": "code",
   "execution_count": 10,
   "metadata": {},
   "outputs": [],
   "source": [
    "from files.model import lightningModel\n",
    "import torch \n",
    "\n",
    "## if config vision_model.name == convnext_small\n",
    "ckpt_path = 'pretrain_convnext_small.ckpt'\n",
    "\n",
    "## if config vision_model.name == convnext_tiny\n",
    "ckpt_path = 'pretrain_convnext_tiny.ckpt'\n",
    "\n",
    "\n",
    "model = lightningModel.load_from_checkpoint(checkpoint_path=ckpt_path, map_location=torch.device('cpu'))\n",
    "\n",
    "model.VLModel.vision_encoder # vision encoder (ConvNext Model)\n",
    "model.VLModel.text_encoder # text encoder (BERT Model)\n",
    "model.VLModel.fusion_module # fusion_module (Transformer)"
   ]
  },
  {
   "cell_type": "code",
   "execution_count": 12,
   "metadata": {},
   "outputs": [],
   "source": [
    "import timm \n",
    "import torch.nn as nn \n",
    "import torch \n",
    "\n",
    "#### For ConvNext Tiny Model ####\n",
    "model = timm.create_model('convnext_tiny', pretrained=False)\n",
    "model.head.fc = nn.Linear(768, 768)\n",
    "model.birads_layer = nn.Sequential(nn.Linear(768, 5)) ## BI-RADS CLASSIFICATION LAYER\n",
    "model.density_layer = nn.Sequential(nn.Linear(768, 4)) ## DENSITY CLASSIFICATION LAYER\n",
    "model.load_state_dict(torch.load('convnext_tiny_ftune.pth', map_location=torch.device('cpu')))\n",
    "\n",
    "#### For ConvNext Small Model ####\n",
    "model = timm.create_model('convnext_small', pretrained=False)\n",
    "model.head.fc = nn.Linear(768, 768)\n",
    "model.birads_layer = nn.Sequential(nn.Linear(768, 5)) ## BI-RADS CLASSIFICATION LAYER\n",
    "model.density_layer = nn.Sequential(nn.Linear(768, 4)) ## DENSITY CLASSIFICATION LAYER\n",
    "model.load_state_dict(torch.load('convnext_small_ftune.pth', map_location=torch.device('cpu')))\n"
   ]
  },
  {
   "cell_type": "code",
   "execution_count": null,
   "metadata": {},
   "outputs": [],
   "source": []
  }
 ],
 "metadata": {
  "kernelspec": {
   "display_name": "Python 3.10.12 ('pytorch_light')",
   "language": "python",
   "name": "python3"
  },
  "language_info": {
   "codemirror_mode": {
    "name": "ipython",
    "version": 3
   },
   "file_extension": ".py",
   "mimetype": "text/x-python",
   "name": "python",
   "nbconvert_exporter": "python",
   "pygments_lexer": "ipython3",
   "version": "3.10.12"
  },
  "vscode": {
   "interpreter": {
    "hash": "691730d83c554cbe42ce42c85ae3aeec2114e87f06410b30204f3d9c0d65d36c"
   }
  }
 },
 "nbformat": 4,
 "nbformat_minor": 2
}
